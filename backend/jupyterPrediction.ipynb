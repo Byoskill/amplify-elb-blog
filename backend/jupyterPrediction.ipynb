{
 "cells": [
  {
   "cell_type": "markdown",
   "metadata": {},
   "source": [
    "# Jupiter Notebook to build a quick and imperfect prediction solution\n",
    "\n",
    "This notebook is an attempt to train a model to predict the salary in Data Science based on the kaggle dataset from https://www.kaggle.com/datasets/lainguyn123/data-science-salary-landscape."
   ]
  },
  {
   "cell_type": "code",
   "execution_count": 26,
   "metadata": {},
   "outputs": [
    {
     "name": "stdout",
     "output_type": "stream",
     "text": [
      "Requirement already satisfied: scikit-learn in ./venv/lib/python3.12/site-packages (1.5.1)\n",
      "Requirement already satisfied: numpy>=1.19.5 in ./venv/lib/python3.12/site-packages (from scikit-learn) (1.26.4)\n",
      "Requirement already satisfied: scipy>=1.6.0 in ./venv/lib/python3.12/site-packages (from scikit-learn) (1.14.1)\n",
      "Requirement already satisfied: joblib>=1.2.0 in ./venv/lib/python3.12/site-packages (from scikit-learn) (1.4.2)\n",
      "Requirement already satisfied: threadpoolctl>=3.1.0 in ./venv/lib/python3.12/site-packages (from scikit-learn) (3.5.0)\n",
      "Note: you may need to restart the kernel to use updated packages.\n",
      "Requirement already satisfied: numpy in ./venv/lib/python3.12/site-packages (1.26.4)\n",
      "Note: you may need to restart the kernel to use updated packages.\n",
      "Requirement already satisfied: pandas in ./venv/lib/python3.12/site-packages (2.2.2)\n",
      "Requirement already satisfied: numpy>=1.26.0 in ./venv/lib/python3.12/site-packages (from pandas) (1.26.4)\n",
      "Requirement already satisfied: python-dateutil>=2.8.2 in ./venv/lib/python3.12/site-packages (from pandas) (2.9.0.post0)\n",
      "Requirement already satisfied: pytz>=2020.1 in ./venv/lib/python3.12/site-packages (from pandas) (2024.1)\n",
      "Requirement already satisfied: tzdata>=2022.7 in ./venv/lib/python3.12/site-packages (from pandas) (2024.1)\n",
      "Requirement already satisfied: six>=1.5 in ./venv/lib/python3.12/site-packages (from python-dateutil>=2.8.2->pandas) (1.16.0)\n",
      "Note: you may need to restart the kernel to use updated packages.\n",
      "Requirement already satisfied: seaborn in ./venv/lib/python3.12/site-packages (0.13.2)\n",
      "Requirement already satisfied: numpy!=1.24.0,>=1.20 in ./venv/lib/python3.12/site-packages (from seaborn) (1.26.4)\n",
      "Requirement already satisfied: pandas>=1.2 in ./venv/lib/python3.12/site-packages (from seaborn) (2.2.2)\n",
      "Requirement already satisfied: matplotlib!=3.6.1,>=3.4 in ./venv/lib/python3.12/site-packages (from seaborn) (3.9.2)\n",
      "Requirement already satisfied: contourpy>=1.0.1 in ./venv/lib/python3.12/site-packages (from matplotlib!=3.6.1,>=3.4->seaborn) (1.2.1)\n",
      "Requirement already satisfied: cycler>=0.10 in ./venv/lib/python3.12/site-packages (from matplotlib!=3.6.1,>=3.4->seaborn) (0.12.1)\n",
      "Requirement already satisfied: fonttools>=4.22.0 in ./venv/lib/python3.12/site-packages (from matplotlib!=3.6.1,>=3.4->seaborn) (4.53.1)\n",
      "Requirement already satisfied: kiwisolver>=1.3.1 in ./venv/lib/python3.12/site-packages (from matplotlib!=3.6.1,>=3.4->seaborn) (1.4.5)\n",
      "Requirement already satisfied: packaging>=20.0 in ./venv/lib/python3.12/site-packages (from matplotlib!=3.6.1,>=3.4->seaborn) (24.1)\n",
      "Requirement already satisfied: pillow>=8 in ./venv/lib/python3.12/site-packages (from matplotlib!=3.6.1,>=3.4->seaborn) (10.4.0)\n",
      "Requirement already satisfied: pyparsing>=2.3.1 in ./venv/lib/python3.12/site-packages (from matplotlib!=3.6.1,>=3.4->seaborn) (3.1.4)\n",
      "Requirement already satisfied: python-dateutil>=2.7 in ./venv/lib/python3.12/site-packages (from matplotlib!=3.6.1,>=3.4->seaborn) (2.9.0.post0)\n",
      "Requirement already satisfied: pytz>=2020.1 in ./venv/lib/python3.12/site-packages (from pandas>=1.2->seaborn) (2024.1)\n",
      "Requirement already satisfied: tzdata>=2022.7 in ./venv/lib/python3.12/site-packages (from pandas>=1.2->seaborn) (2024.1)\n",
      "Requirement already satisfied: six>=1.5 in ./venv/lib/python3.12/site-packages (from python-dateutil>=2.7->matplotlib!=3.6.1,>=3.4->seaborn) (1.16.0)\n",
      "Note: you may need to restart the kernel to use updated packages.\n",
      "Requirement already satisfied: tensorflow in ./venv/lib/python3.12/site-packages (2.17.0)\n",
      "Requirement already satisfied: absl-py>=1.0.0 in ./venv/lib/python3.12/site-packages (from tensorflow) (2.1.0)\n",
      "Requirement already satisfied: astunparse>=1.6.0 in ./venv/lib/python3.12/site-packages (from tensorflow) (1.6.3)\n",
      "Requirement already satisfied: flatbuffers>=24.3.25 in ./venv/lib/python3.12/site-packages (from tensorflow) (24.3.25)\n",
      "Requirement already satisfied: gast!=0.5.0,!=0.5.1,!=0.5.2,>=0.2.1 in ./venv/lib/python3.12/site-packages (from tensorflow) (0.6.0)\n",
      "Requirement already satisfied: google-pasta>=0.1.1 in ./venv/lib/python3.12/site-packages (from tensorflow) (0.2.0)\n",
      "Requirement already satisfied: h5py>=3.10.0 in ./venv/lib/python3.12/site-packages (from tensorflow) (3.11.0)\n",
      "Requirement already satisfied: libclang>=13.0.0 in ./venv/lib/python3.12/site-packages (from tensorflow) (18.1.1)\n",
      "Requirement already satisfied: ml-dtypes<0.5.0,>=0.3.1 in ./venv/lib/python3.12/site-packages (from tensorflow) (0.4.0)\n",
      "Requirement already satisfied: opt-einsum>=2.3.2 in ./venv/lib/python3.12/site-packages (from tensorflow) (3.3.0)\n",
      "Requirement already satisfied: packaging in ./venv/lib/python3.12/site-packages (from tensorflow) (24.1)\n",
      "Requirement already satisfied: protobuf!=4.21.0,!=4.21.1,!=4.21.2,!=4.21.3,!=4.21.4,!=4.21.5,<5.0.0dev,>=3.20.3 in ./venv/lib/python3.12/site-packages (from tensorflow) (4.25.4)\n",
      "Requirement already satisfied: requests<3,>=2.21.0 in ./venv/lib/python3.12/site-packages (from tensorflow) (2.32.3)\n",
      "Requirement already satisfied: setuptools in ./venv/lib/python3.12/site-packages (from tensorflow) (73.0.1)\n",
      "Requirement already satisfied: six>=1.12.0 in ./venv/lib/python3.12/site-packages (from tensorflow) (1.16.0)\n",
      "Requirement already satisfied: termcolor>=1.1.0 in ./venv/lib/python3.12/site-packages (from tensorflow) (2.4.0)\n",
      "Requirement already satisfied: typing-extensions>=3.6.6 in ./venv/lib/python3.12/site-packages (from tensorflow) (4.12.2)\n",
      "Requirement already satisfied: wrapt>=1.11.0 in ./venv/lib/python3.12/site-packages (from tensorflow) (1.16.0)\n",
      "Requirement already satisfied: grpcio<2.0,>=1.24.3 in ./venv/lib/python3.12/site-packages (from tensorflow) (1.66.0)\n",
      "Requirement already satisfied: tensorboard<2.18,>=2.17 in ./venv/lib/python3.12/site-packages (from tensorflow) (2.17.1)\n",
      "Requirement already satisfied: keras>=3.2.0 in ./venv/lib/python3.12/site-packages (from tensorflow) (3.5.0)\n",
      "Requirement already satisfied: numpy<2.0.0,>=1.26.0 in ./venv/lib/python3.12/site-packages (from tensorflow) (1.26.4)\n",
      "Requirement already satisfied: wheel<1.0,>=0.23.0 in ./venv/lib/python3.12/site-packages (from astunparse>=1.6.0->tensorflow) (0.44.0)\n",
      "Requirement already satisfied: rich in ./venv/lib/python3.12/site-packages (from keras>=3.2.0->tensorflow) (13.8.0)\n",
      "Requirement already satisfied: namex in ./venv/lib/python3.12/site-packages (from keras>=3.2.0->tensorflow) (0.0.8)\n",
      "Requirement already satisfied: optree in ./venv/lib/python3.12/site-packages (from keras>=3.2.0->tensorflow) (0.12.1)\n",
      "Requirement already satisfied: charset-normalizer<4,>=2 in ./venv/lib/python3.12/site-packages (from requests<3,>=2.21.0->tensorflow) (3.3.2)\n",
      "Requirement already satisfied: idna<4,>=2.5 in ./venv/lib/python3.12/site-packages (from requests<3,>=2.21.0->tensorflow) (3.8)\n",
      "Requirement already satisfied: urllib3<3,>=1.21.1 in ./venv/lib/python3.12/site-packages (from requests<3,>=2.21.0->tensorflow) (2.2.2)\n",
      "Requirement already satisfied: certifi>=2017.4.17 in ./venv/lib/python3.12/site-packages (from requests<3,>=2.21.0->tensorflow) (2024.7.4)\n",
      "Requirement already satisfied: markdown>=2.6.8 in ./venv/lib/python3.12/site-packages (from tensorboard<2.18,>=2.17->tensorflow) (3.7)\n",
      "Requirement already satisfied: tensorboard-data-server<0.8.0,>=0.7.0 in ./venv/lib/python3.12/site-packages (from tensorboard<2.18,>=2.17->tensorflow) (0.7.2)\n",
      "Requirement already satisfied: werkzeug>=1.0.1 in ./venv/lib/python3.12/site-packages (from tensorboard<2.18,>=2.17->tensorflow) (3.0.4)\n",
      "Requirement already satisfied: MarkupSafe>=2.1.1 in ./venv/lib/python3.12/site-packages (from werkzeug>=1.0.1->tensorboard<2.18,>=2.17->tensorflow) (2.1.5)\n",
      "Requirement already satisfied: markdown-it-py>=2.2.0 in ./venv/lib/python3.12/site-packages (from rich->keras>=3.2.0->tensorflow) (3.0.0)\n",
      "Requirement already satisfied: pygments<3.0.0,>=2.13.0 in ./venv/lib/python3.12/site-packages (from rich->keras>=3.2.0->tensorflow) (2.18.0)\n",
      "Requirement already satisfied: mdurl~=0.1 in ./venv/lib/python3.12/site-packages (from markdown-it-py>=2.2.0->rich->keras>=3.2.0->tensorflow) (0.1.2)\n",
      "Note: you may need to restart the kernel to use updated packages.\n",
      "Requirement already satisfied: xgboost in ./venv/lib/python3.12/site-packages (2.1.1)\n",
      "Requirement already satisfied: numpy in ./venv/lib/python3.12/site-packages (from xgboost) (1.26.4)\n",
      "Requirement already satisfied: nvidia-nccl-cu12 in ./venv/lib/python3.12/site-packages (from xgboost) (2.22.3)\n",
      "Requirement already satisfied: scipy in ./venv/lib/python3.12/site-packages (from xgboost) (1.14.1)\n",
      "Note: you may need to restart the kernel to use updated packages.\n",
      "Requirement already satisfied: pygad in ./venv/lib/python3.12/site-packages (3.3.1)\n",
      "Requirement already satisfied: cloudpickle in ./venv/lib/python3.12/site-packages (from pygad) (3.0.0)\n",
      "Requirement already satisfied: matplotlib in ./venv/lib/python3.12/site-packages (from pygad) (3.9.2)\n",
      "Requirement already satisfied: numpy in ./venv/lib/python3.12/site-packages (from pygad) (1.26.4)\n",
      "Requirement already satisfied: contourpy>=1.0.1 in ./venv/lib/python3.12/site-packages (from matplotlib->pygad) (1.2.1)\n",
      "Requirement already satisfied: cycler>=0.10 in ./venv/lib/python3.12/site-packages (from matplotlib->pygad) (0.12.1)\n",
      "Requirement already satisfied: fonttools>=4.22.0 in ./venv/lib/python3.12/site-packages (from matplotlib->pygad) (4.53.1)\n",
      "Requirement already satisfied: kiwisolver>=1.3.1 in ./venv/lib/python3.12/site-packages (from matplotlib->pygad) (1.4.5)\n",
      "Requirement already satisfied: packaging>=20.0 in ./venv/lib/python3.12/site-packages (from matplotlib->pygad) (24.1)\n",
      "Requirement already satisfied: pillow>=8 in ./venv/lib/python3.12/site-packages (from matplotlib->pygad) (10.4.0)\n",
      "Requirement already satisfied: pyparsing>=2.3.1 in ./venv/lib/python3.12/site-packages (from matplotlib->pygad) (3.1.4)\n",
      "Requirement already satisfied: python-dateutil>=2.7 in ./venv/lib/python3.12/site-packages (from matplotlib->pygad) (2.9.0.post0)\n",
      "Requirement already satisfied: six>=1.5 in ./venv/lib/python3.12/site-packages (from python-dateutil>=2.7->matplotlib->pygad) (1.16.0)\n",
      "Note: you may need to restart the kernel to use updated packages.\n",
      "Requirement already satisfied: scikeras in ./venv/lib/python3.12/site-packages (0.13.0)\n",
      "Requirement already satisfied: keras>=3.2.0 in ./venv/lib/python3.12/site-packages (from scikeras) (3.5.0)\n",
      "Requirement already satisfied: scikit-learn>=1.4.2 in ./venv/lib/python3.12/site-packages (from scikeras) (1.5.1)\n",
      "Requirement already satisfied: absl-py in ./venv/lib/python3.12/site-packages (from keras>=3.2.0->scikeras) (2.1.0)\n",
      "Requirement already satisfied: numpy in ./venv/lib/python3.12/site-packages (from keras>=3.2.0->scikeras) (1.26.4)\n",
      "Requirement already satisfied: rich in ./venv/lib/python3.12/site-packages (from keras>=3.2.0->scikeras) (13.8.0)\n",
      "Requirement already satisfied: namex in ./venv/lib/python3.12/site-packages (from keras>=3.2.0->scikeras) (0.0.8)\n",
      "Requirement already satisfied: h5py in ./venv/lib/python3.12/site-packages (from keras>=3.2.0->scikeras) (3.11.0)\n",
      "Requirement already satisfied: optree in ./venv/lib/python3.12/site-packages (from keras>=3.2.0->scikeras) (0.12.1)\n",
      "Requirement already satisfied: ml-dtypes in ./venv/lib/python3.12/site-packages (from keras>=3.2.0->scikeras) (0.4.0)\n",
      "Requirement already satisfied: packaging in ./venv/lib/python3.12/site-packages (from keras>=3.2.0->scikeras) (24.1)\n",
      "Requirement already satisfied: scipy>=1.6.0 in ./venv/lib/python3.12/site-packages (from scikit-learn>=1.4.2->scikeras) (1.14.1)\n",
      "Requirement already satisfied: joblib>=1.2.0 in ./venv/lib/python3.12/site-packages (from scikit-learn>=1.4.2->scikeras) (1.4.2)\n",
      "Requirement already satisfied: threadpoolctl>=3.1.0 in ./venv/lib/python3.12/site-packages (from scikit-learn>=1.4.2->scikeras) (3.5.0)\n",
      "Requirement already satisfied: typing-extensions>=4.5.0 in ./venv/lib/python3.12/site-packages (from optree->keras>=3.2.0->scikeras) (4.12.2)\n",
      "Requirement already satisfied: markdown-it-py>=2.2.0 in ./venv/lib/python3.12/site-packages (from rich->keras>=3.2.0->scikeras) (3.0.0)\n",
      "Requirement already satisfied: pygments<3.0.0,>=2.13.0 in ./venv/lib/python3.12/site-packages (from rich->keras>=3.2.0->scikeras) (2.18.0)\n",
      "Requirement already satisfied: mdurl~=0.1 in ./venv/lib/python3.12/site-packages (from markdown-it-py>=2.2.0->rich->keras>=3.2.0->scikeras) (0.1.2)\n",
      "Note: you may need to restart the kernel to use updated packages.\n"
     ]
    }
   ],
   "source": [
    "%pip install scikit-learn\n",
    "%pip install numpy\n",
    "%pip install pandas \n",
    "%pip install seaborn\n",
    "%pip install tensorflow\n",
    "%pip install xgboost\n",
    "%pip install pygad\n",
    "%pip install scikeras\n"
   ]
  },
  {
   "cell_type": "code",
   "execution_count": 27,
   "metadata": {},
   "outputs": [],
   "source": [
    "# Package for linear regressions\n",
    "\n",
    "\n",
    "import numpy as np \n",
    "import pandas as pd \n",
    "import seaborn as sns \n",
    "import matplotlib.pyplot as plt \n",
    "from sklearn import preprocessing, svm \n",
    "from sklearn.model_selection import train_test_split \n",
    "from sklearn.linear_model import LinearRegression \n",
    "from sklearn import datasets, linear_model\n",
    "from sklearn.preprocessing import LabelEncoder, OneHotEncoder\n",
    "from sklearn.metrics import mean_squared_error, r2_score,root_mean_squared_log_error\n",
    "from sklearn.model_selection import train_test_split"
   ]
  },
  {
   "cell_type": "markdown",
   "metadata": {},
   "source": [
    "## Loading and Cleaning datasets\n",
    "\n",
    "In this section, we will load the dataset and extract the features and performs the cleaning."
   ]
  },
  {
   "cell_type": "code",
   "execution_count": 62,
   "metadata": {},
   "outputs": [
    {
     "name": "stdout",
     "output_type": "stream",
     "text": [
      "New column order ['work_year', 'experience_level', 'employment_type', 'employee_residence', 'remote_ratio', 'company_location', 'company_size', 'salary_currency']\n",
      "Features num= 7 ['work_year', 'experience_level', 'employment_type', 'employee_residence', 'remote_ratio', 'company_location', 'company_size']\n",
      "<class 'pandas.core.frame.DataFrame'>\n",
      "RangeIndex: 607 entries, 0 to 606\n",
      "Data columns (total 7 columns):\n",
      " #   Column              Non-Null Count  Dtype \n",
      "---  ------              --------------  ----- \n",
      " 0   work_year           607 non-null    int64 \n",
      " 1   experience_level    607 non-null    object\n",
      " 2   employment_type     607 non-null    object\n",
      " 3   employee_residence  607 non-null    object\n",
      " 4   remote_ratio        607 non-null    int64 \n",
      " 5   company_location    607 non-null    object\n",
      " 6   company_size        607 non-null    object\n",
      "dtypes: int64(2), object(5)\n",
      "memory usage: 33.3+ KB\n",
      "<class 'pandas.core.frame.DataFrame'>\n",
      "RangeIndex: 607 entries, 0 to 606\n",
      "Data columns (total 1 columns):\n",
      " #   Column         Non-Null Count  Dtype  \n",
      "---  ------         --------------  -----  \n",
      " 0   salary_in_usd  607 non-null    float64\n",
      "dtypes: float64(1)\n",
      "memory usage: 4.9 KB\n"
     ]
    }
   ],
   "source": [
    "salaries_dataset_url = './ds_salaries.csv'\n",
    "full_dataset = pd.read_csv(salaries_dataset_url)\n",
    "\n",
    "# Reorder the salary column and remove the salary and currency columns and ID\n",
    "cols = full_dataset.columns.tolist()\n",
    "cols =  cols[1:4] + cols[8:] + [cols[6]]\n",
    "print(\"New column order\", cols)\n",
    "\n",
    "# Split X and Y\n",
    "feature_cols = cols[0:-1]\n",
    "print(\"Features num=\", len(feature_cols), feature_cols)\n",
    "\n",
    "X = full_dataset.loc[:, feature_cols]\n",
    "# We apply log on the salary feature\n",
    "Y =  np.log(full_dataset.loc[:, [\"salary_in_usd\"] ])\n",
    "\n",
    "X.info()\n",
    "Y.info()"
   ]
  },
  {
   "cell_type": "markdown",
   "metadata": {},
   "source": [
    "### Split the dataset in train and test\n",
    "\n"
   ]
  },
  {
   "cell_type": "code",
   "execution_count": 29,
   "metadata": {},
   "outputs": [],
   "source": [
    "X_train, X_test, y_train, y_test = train_test_split(X, Y, test_size=0.33, random_state=42)"
   ]
  },
  {
   "cell_type": "code",
   "execution_count": 30,
   "metadata": {},
   "outputs": [
    {
     "name": "stdout",
     "output_type": "stream",
     "text": [
      "Empty columns in training set Index([], dtype='object')\n"
     ]
    }
   ],
   "source": [
    "# List empty columns (normally none)\n",
    "print(\"Empty columns in training set\", X_train.columns[X_train.isnull().any()])"
   ]
  },
  {
   "cell_type": "markdown",
   "metadata": {},
   "source": [
    "### Generate dummies"
   ]
  },
  {
   "cell_type": "code",
   "execution_count": 31,
   "metadata": {},
   "outputs": [],
   "source": [
    "# Generate dummies\n",
    "\n",
    "# Convert features with categories into numbers\n",
    "featureWithStrings = X_train.select_dtypes(include=['object']).columns\n",
    "\n",
    "def generate_dummies(df: pd.DataFrame, colName: str):\n",
    "    one_hot = pd.get_dummies(prefix=colName, prefix_sep=\"_\",data=df[colName])\n",
    "    data_df = df.drop(colName,axis = 1)\n",
    "    return data_df.join(one_hot)\n",
    "\n"
   ]
  },
  {
   "cell_type": "code",
   "execution_count": 32,
   "metadata": {},
   "outputs": [
    {
     "name": "stdout",
     "output_type": "stream",
     "text": [
      "Index(['work_year', 'employee_residence', 'remote_ratio', 'company_location',\n",
      "       'employment_type_CT', 'employment_type_FL', 'employment_type_FT',\n",
      "       'employment_type_PT', 'experience_level_EN', 'experience_level_EX',\n",
      "       'experience_level_MI', 'experience_level_SE', 'company_size_L',\n",
      "       'company_size_M', 'company_size_S'],\n",
      "      dtype='object')\n",
      "Index(['work_year', 'employee_residence', 'remote_ratio', 'company_location',\n",
      "       'employment_type_CT', 'employment_type_FL', 'employment_type_FT',\n",
      "       'employment_type_PT', 'experience_level_EN', 'experience_level_EX',\n",
      "       'experience_level_MI', 'experience_level_SE', 'company_size_L',\n",
      "       'company_size_M', 'company_size_S'],\n",
      "      dtype='object')\n"
     ]
    }
   ],
   "source": [
    "def create_dummies_dataset(dataset):\n",
    "    X_train_dummies = generate_dummies(dataset, colName=\"employment_type\")\n",
    "    X_train_dummies = generate_dummies(X_train_dummies, colName=\"experience_level\")\n",
    "    #X_train_dummies = generate_dummies(X_train_dummies, colName=\"employee_residence\")\n",
    "    #X_train_dummies = generate_dummies(X_train_dummies, colName=\"company_location\")\n",
    "    X_train_dummies = generate_dummies(X_train_dummies, colName=\"company_size\")\n",
    "    print(X_train_dummies.keys())\n",
    "    return X_train_dummies\n",
    "\n",
    "X_train_d = create_dummies_dataset(X_train)\n",
    "X_test_d = create_dummies_dataset(X_test)\n",
    "\n"
   ]
  },
  {
   "cell_type": "markdown",
   "metadata": {},
   "source": [
    "### Label Encoding\n",
    "\n",
    "We will encode few feature columns."
   ]
  },
  {
   "cell_type": "code",
   "execution_count": 33,
   "metadata": {},
   "outputs": [],
   "source": [
    "featureWithStrings = ['employee_residence', 'company_location', 'remote_ratio']\n",
    "\n",
    "def encode_labels(df_train, df_test, features):\n",
    "    for col in features:\n",
    "        try:\n",
    "            enc = LabelEncoder()\n",
    "            mcol = pd.concat([df_train[col], df_test[col]])\n",
    "            enc.fit(mcol)\n",
    "            df_train[col] = enc.transform(df_train[col])\n",
    "            df_test[col] = enc.transform(df_test[col])\n",
    "        except Exception as error:\n",
    "            print(\"Exception with the column \" + col)\n",
    "\n",
    "encode_labels(X_train_d, X_test_d,featureWithStrings)\n",
    "\n"
   ]
  },
  {
   "cell_type": "code",
   "execution_count": 34,
   "metadata": {},
   "outputs": [
    {
     "name": "stdout",
     "output_type": "stream",
     "text": [
      "     work_year  employee_residence  remote_ratio  company_location  \\\n",
      "124       2021                  18             1                16   \n",
      "434       2022                  20             2                18   \n",
      "472       2022                  55             2                48   \n",
      "185       2021                  29             2                27   \n",
      "228       2021                  55             0                48   \n",
      "\n",
      "     employment_type_CT  employment_type_FL  employment_type_FT  \\\n",
      "124               False               False               False   \n",
      "434               False               False                True   \n",
      "472               False               False                True   \n",
      "185               False               False                True   \n",
      "228               False               False                True   \n",
      "\n",
      "     employment_type_PT  experience_level_EN  experience_level_EX  \\\n",
      "124                True                 True                False   \n",
      "434               False                False                False   \n",
      "472               False                False                False   \n",
      "185               False                False                False   \n",
      "228               False                False                False   \n",
      "\n",
      "     experience_level_MI  experience_level_SE  company_size_L  company_size_M  \\\n",
      "124                False                False           False            True   \n",
      "434                 True                False           False            True   \n",
      "472                False                 True           False            True   \n",
      "185                 True                False           False            True   \n",
      "228                False                 True            True           False   \n",
      "\n",
      "     company_size_S  \n",
      "124           False  \n",
      "434           False  \n",
      "472           False  \n",
      "185           False  \n",
      "228           False  \n"
     ]
    }
   ],
   "source": [
    "print(X_train_d.head())\n"
   ]
  },
  {
   "cell_type": "markdown",
   "metadata": {},
   "source": [
    "### Check correlations with variables\n",
    "\n",
    "We will output some graphs to check the correlations between the features and the price\n",
    "\n"
   ]
  },
  {
   "cell_type": "code",
   "execution_count": 48,
   "metadata": {},
   "outputs": [
    {
     "data": {
      "text/plain": [
       "<seaborn.axisgrid.PairGrid at 0x7086564d5e20>"
      ]
     },
     "execution_count": 48,
     "metadata": {},
     "output_type": "execute_result"
    },
    {
     "data": {
      "image/png": "[encoded data removed]",
      "text/plain": [
       "<Figure size 1000x250 with 4 Axes>"
      ]
     },
     "metadata": {},
     "output_type": "display_data"
    }
   ],
   "source": [
    "numeric_features = X_train_d.select_dtypes(include=['int64']).columns\n",
    "\n",
    "visu_df = X_train_d.copy()\n",
    "visu_df[\"salary_price\"] = y_train\n",
    "sns.pairplot(data=visu_df, y_vars=['salary_price'], x_vars=numeric_features[:5])\n"
   ]
  },
  {
   "cell_type": "markdown",
   "metadata": {},
   "source": [
    "### Export the normalized dataset"
   ]
  },
  {
   "cell_type": "code",
   "execution_count": 49,
   "metadata": {},
   "outputs": [],
   "source": [
    "## Export cleant data\n",
    "def export(X,y, csvName):\n",
    "    df = X.copy()\n",
    "    df['salary_in_usd'] = y.loc[:, [\"salary_in_usd\"] ];\n",
    "    df.to_csv(csvName, index=False)  \n",
    "\n",
    "\n",
    "\n",
    "export(X_train_d, y_train, \"train.csv\")\n",
    "export(X_test_d, y_test, \"test.csv\")"
   ]
  },
  {
   "cell_type": "markdown",
   "metadata": {},
   "source": [
    "## Model training\n",
    "\n",
    "We will use a hierarchical model to train."
   ]
  },
  {
   "cell_type": "code",
   "execution_count": 52,
   "metadata": {},
   "outputs": [],
   "source": [
    "\n",
    "from sklearn.neighbors import KNeighborsRegressor\n",
    "from sklearn.pipeline import make_pipeline\n",
    "from sklearn.preprocessing import StandardScaler\n",
    "from sklearn.linear_model import LassoCV\n",
    "from sklearn.compose import make_column_transformer\n",
    "from sklearn.impute import SimpleImputer\n",
    "from sklearn.pipeline import make_pipeline\n",
    "from sklearn.preprocessing import OrdinalEncoder\n",
    "from sklearn.preprocessing import OneHotEncoder, StandardScaler\n",
    "from sklearn.compose import make_column_selector\n",
    "from sklearn.ensemble import RandomForestRegressor\n",
    "from sklearn.ensemble import HistGradientBoostingRegressor\n",
    "from sklearn.ensemble import StackingRegressor\n",
    "from sklearn.linear_model import RidgeCV\n",
    "from sklearn.preprocessing import StandardScaler\n",
    "from sklearn.neighbors import KNeighborsRegressor\n",
    "from sklearn.ensemble import RandomForestRegressor, StackingRegressor\n",
    "from sklearn.linear_model import Lasso, LassoCV, RidgeCV, ElasticNet\n",
    "#from xgboost import XGBRegressor\n",
    "\n",
    "from sklearn.svm import SVR\n",
    "\n",
    "\n",
    "def fit_model(retainedColumns: list, X, y):\n",
    "    cat_selector = make_column_selector(dtype_include=object)\n",
    "    num_selector = make_column_selector(dtype_include=np.number)\n",
    "    cat_selector(X)\n",
    "\n",
    "\n",
    "    cat_tree_processor = OrdinalEncoder(\n",
    "        handle_unknown=\"use_encoded_value\",\n",
    "        unknown_value=-1,\n",
    "        encoded_missing_value=-2,\n",
    "    )\n",
    "    num_tree_processor = SimpleImputer(strategy=\"mean\", add_indicator=True)\n",
    "\n",
    "    cat_linear_processor = OneHotEncoder(handle_unknown=\"ignore\")\n",
    "    num_linear_processor = make_pipeline(\n",
    "        StandardScaler(), SimpleImputer(strategy=\"mean\", add_indicator=True)\n",
    "    )\n",
    "\n",
    "    linear_preprocessor = make_column_transformer(\n",
    "        (num_linear_processor, num_selector), (cat_linear_processor, cat_selector)\n",
    "    )\n",
    "\n",
    "\n",
    "    tree_preprocessor = make_column_transformer(\n",
    "        (num_tree_processor, num_selector), (cat_tree_processor, cat_selector)\n",
    "    )\n",
    "    lasso_pipeline = make_pipeline(linear_preprocessor, LassoCV())\n",
    "    \n",
    "\n",
    "    rf_pipeline = make_pipeline(tree_preprocessor, RandomForestRegressor(random_state=42))\n",
    "    \n",
    "    gbdt_pipeline = make_pipeline(\n",
    "        tree_preprocessor, HistGradientBoostingRegressor(random_state=0)\n",
    "    )\n",
    "    \n",
    "    knn_pipeline = make_pipeline(\n",
    "        linear_preprocessor, KNeighborsRegressor()\n",
    "    )\n",
    "\n",
    "    estimators = [\n",
    "        (\"Random Forest\", rf_pipeline),\n",
    "        (\"LassoCV\", lasso_pipeline),\n",
    "        (\"Gradient Boosting\", gbdt_pipeline),\n",
    "        (\"KNN\", knn_pipeline),   \n",
    "        #(\"DecisionTreeRegressor\", make_pipeline(tree_preprocessor, DecisionTreeRegressor())),\n",
    "        #(\"LR\", make_pipeline(linear_preprocessor, LinearRegression())),   \n",
    "        #(\"XGB\", make_pipeline(linear_preprocessor, XGBRegressor())),   \n",
    "        #(\"LGBM\", make_pipeline(linear_preprocessor, LGBMRegressor())),   \n",
    "        (\"SVR\", make_pipeline(linear_preprocessor, SVR())),   \n",
    "        #('Ridge', make_pipeline(linear_preprocessor, Ridge(alpha=10))),\n",
    "        ('Lasso', make_pipeline(linear_preprocessor, Lasso(alpha=0.003487))),\n",
    "        ('ENet', make_pipeline(linear_preprocessor, ElasticNet(alpha=0.006974)))\n",
    "    ]\n",
    "    train_normalized_retained_X = X[retainedColumns]\n",
    "    stacking_regressor = StackingRegressor(estimators=estimators, final_estimator=RidgeCV())\n",
    "    stacking_regressor.fit(train_normalized_retained_X, y)\n",
    "    return stacking_regressor\n",
    "\n"
   ]
  },
  {
   "cell_type": "markdown",
   "metadata": {},
   "source": [
    "### Graph and precision evaluation"
   ]
  },
  {
   "cell_type": "code",
   "execution_count": 67,
   "metadata": {},
   "outputs": [
    {
     "name": "stdout",
     "output_type": "stream",
     "text": [
      "We use  15  the columns are  Index(['work_year', 'employee_residence', 'remote_ratio', 'company_location',\n",
      "       'employment_type_CT', 'employment_type_FL', 'employment_type_FT',\n",
      "       'employment_type_PT', 'experience_level_EN', 'experience_level_EX',\n",
      "       'experience_level_MI', 'experience_level_SE', 'company_size_L',\n",
      "       'company_size_M', 'company_size_S'],\n",
      "      dtype='object')\n"
     ]
    },
    {
     "name": "stderr",
     "output_type": "stream",
     "text": [
      "/home/sleroy/git/amplify-elb-blog/backend/venv/lib/python3.12/site-packages/sklearn/ensemble/_stacking.py:970: DataConversionWarning: A column-vector y was passed when a 1d array was expected. Please change the shape of y to (n_samples, ), for example using ravel().\n",
      "  y = column_or_1d(y, warn=True)\n"
     ]
    }
   ],
   "source": [
    "retained_columns = X_train_d.columns   \n",
    "print(\"We use \", len(retained_columns), \" the columns are \", retained_columns)\n",
    "regr = fit_model(retained_columns,  X_train_d, y_train )\n",
    "\n",
    "\n"
   ]
  },
  {
   "cell_type": "code",
   "execution_count": 71,
   "metadata": {},
   "outputs": [
    {
     "name": "stdout",
     "output_type": "stream",
     "text": [
      "X_train (406, 15)\n",
      "X_test (201, 15)\n",
      "Y_train (406, 1)\n",
      "Y_test (201, 1)\n"
     ]
    }
   ],
   "source": [
    "print(\"X_train\", X_train_d.shape)\n",
    "print(\"X_test\", X_test_d.shape)\n",
    "print(\"Y_train\", y_train.shape)\n",
    "print(\"Y_test\", y_test.shape)"
   ]
  },
  {
   "cell_type": "code",
   "execution_count": 73,
   "metadata": {},
   "outputs": [],
   "source": [
    "\n",
    "## Predict the value for the test dataset\n",
    "y_pred = regr.predict(X_test_d)\n"
   ]
  },
  {
   "cell_type": "markdown",
   "metadata": {},
   "source": [
    "### Compute accuracy"
   ]
  },
  {
   "cell_type": "code",
   "execution_count": null,
   "metadata": {},
   "outputs": [],
   "source": [
    "\n",
    "# The coefficients\n",
    "#print(\"Coefficients: \\n\", regr.coef_)\n",
    "# The mean squared error\n",
    "print(\"root_mean_squared_log_error: %.2f\" % root_mean_squared_log_error(y_test, y_pred))\n",
    "# The coefficient of determination: 1 is perfect prediction\n",
    "print(\"Coefficient of determination, R2: %.2f\" % r2_score(y_test, y_pred))\n",
    "\n",
    "# Plot outputs\n",
    "plt.scatter(X_train_d.index, y_pred, color=\"black\")\n",
    "plt.scatter(X_train_d.index, y_test, color=\"blue\")\n",
    "#plt.scatter(train[\"Id\"], y_test, color=\"blue\")\n",
    "#plt.plot(test_features_X_df,  test_predicted_Y_df, color=\"blue\", linewidth=3)\n",
    "\n",
    "plt.xticks(())\n",
    "plt.yticks(())\n",
    "plt.tick_params(axis='both', labelsize=12, width=2, length=5)  # Style\n",
    "\n",
    "plt.xlabel('ID')\n",
    "plt.ylabel('Predicted price')\n",
    "plt.title('Accuracy')\n",
    "plt.show()\n",
    "\n",
    "\n",
    "sns.set_theme(style=\"darkgrid\")\n",
    "\n",
    "data = X_train_d.copy()\n",
    "data[\"Prediction\" ] = y_pred\n",
    "data[\"Expected\" ] = y_test\n",
    "data[\"id\"] = data.index\n",
    "g = sns.jointplot(x=\"Expected\", y=\"Prediction\", data=data,\n",
    "                  kind=\"reg\", truncate=False,\n",
    "                  color=\"m\", height=7)"
   ]
  }
 ],
 "metadata": {
  "kernelspec": {
   "display_name": "venv",
   "language": "python",
   "name": "python3"
  },
  "language_info": {
   "codemirror_mode": {
    "name": "ipython",
    "version": 3
   },
   "file_extension": ".py",
   "mimetype": "text/x-python",
   "name": "python",
   "nbconvert_exporter": "python",
   "pygments_lexer": "ipython3",
   "version": "3.12.3"
  }
 },
 "nbformat": 4,
 "nbformat_minor": 2
}
